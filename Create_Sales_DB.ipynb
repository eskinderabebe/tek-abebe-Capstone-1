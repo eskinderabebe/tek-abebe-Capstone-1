{
 "cells": [
  {
   "cell_type": "code",
   "execution_count": 1,
   "id": "74b28051",
   "metadata": {},
   "outputs": [
    {
     "name": "stdout",
     "output_type": "stream",
     "text": [
      "Database created successfully\n"
     ]
    }
   ],
   "source": [
    "import mysql.connector\n",
    "\n",
    "mydb = mysql.connector.connect(\n",
    "    user = \"root\",\n",
    "    passwd = \"MySQL2022\",\n",
    "    host = \"localhost\",\n",
    ")\n",
    "\n",
    "my_cursor = mydb.cursor()\n",
    "\n",
    "my_cursor.execute(\"DROP SCHEMA IF EXISTS tractorTEK_db\")\n",
    "\n",
    "my_cursor.execute(\"CREATE DATABASE tractorTEK_db\")\n",
    "\n",
    "print(\"Database created successfully\")"
   ]
  }
 ],
 "metadata": {
  "kernelspec": {
   "display_name": "Python 3 (ipykernel)",
   "language": "python",
   "name": "python3"
  },
  "language_info": {
   "codemirror_mode": {
    "name": "ipython",
    "version": 3
   },
   "file_extension": ".py",
   "mimetype": "text/x-python",
   "name": "python",
   "nbconvert_exporter": "python",
   "pygments_lexer": "ipython3",
   "version": "3.9.6"
  }
 },
 "nbformat": 4,
 "nbformat_minor": 5
}
