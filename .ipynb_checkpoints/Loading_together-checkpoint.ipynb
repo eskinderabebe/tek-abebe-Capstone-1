{
 "cells": [
  {
   "cell_type": "code",
   "execution_count": 1,
   "id": "b3817fd4",
   "metadata": {},
   "outputs": [
    {
     "name": "stdout",
     "output_type": "stream",
     "text": [
      "Manufacturers Records are inserted and committed\n",
      "Products Records are inserted and committed\n",
      "Prices Records are inserted and committed\n",
      "Dates Records are inserted and committed\n"
     ]
    },
    {
     "ename": "ProgrammingError",
     "evalue": "Not all parameters were used in the SQL statement",
     "output_type": "error",
     "traceback": [
      "\u001b[1;31m---------------------------------------------------------------------------\u001b[0m",
      "\u001b[1;31mProgrammingError\u001b[0m                          Traceback (most recent call last)",
      "Input \u001b[1;32mIn [1]\u001b[0m, in \u001b[0;36m<cell line: 68>\u001b[1;34m()\u001b[0m\n\u001b[0;32m     68\u001b[0m \u001b[38;5;28;01mfor\u001b[39;00m i,row \u001b[38;5;129;01min\u001b[39;00m sales_team_data\u001b[38;5;241m.\u001b[39miterrows():\n\u001b[0;32m     69\u001b[0m             \u001b[38;5;66;03m# %s means values \u001b[39;00m\n\u001b[0;32m     70\u001b[0m             sql \u001b[38;5;241m=\u001b[39m \u001b[38;5;124m\"\u001b[39m\u001b[38;5;124mINSERT INTO tractortek_db.sales_team VALUES (\u001b[39m\u001b[38;5;132;01m%s\u001b[39;00m\u001b[38;5;124m,\u001b[39m\u001b[38;5;132;01m%s\u001b[39;00m\u001b[38;5;124m,\u001b[39m\u001b[38;5;132;01m%s\u001b[39;00m\u001b[38;5;124m,\u001b[39m\u001b[38;5;132;01m%s\u001b[39;00m\u001b[38;5;124m)\u001b[39m\u001b[38;5;124m\"\u001b[39m\n\u001b[1;32m---> 71\u001b[0m             \u001b[43mmy_cursor\u001b[49m\u001b[38;5;241;43m.\u001b[39;49m\u001b[43mexecute\u001b[49m\u001b[43m(\u001b[49m\u001b[43msql\u001b[49m\u001b[43m,\u001b[49m\u001b[43m \u001b[49m\u001b[38;5;28;43mtuple\u001b[39;49m\u001b[43m(\u001b[49m\u001b[43mrow\u001b[49m\u001b[43m)\u001b[49m\u001b[43m)\u001b[49m\n\u001b[0;32m     72\u001b[0m             \u001b[38;5;66;03m# the connection is not auto committed by default, so we must commit to save our changes\u001b[39;00m\n\u001b[0;32m     73\u001b[0m             mydb\u001b[38;5;241m.\u001b[39mcommit()\n",
      "File \u001b[1;32mE:\\Flask-Bootcamp-master\\Flask-Bootcamp-master\\eskindervenv\\lib\\site-packages\\mysql\\connector\\cursor_cext.py:265\u001b[0m, in \u001b[0;36mCMySQLCursor.execute\u001b[1;34m(self, operation, params, multi)\u001b[0m\n\u001b[0;32m    263\u001b[0m         stmt \u001b[38;5;241m=\u001b[39m RE_PY_PARAM\u001b[38;5;241m.\u001b[39msub(psub, stmt)\n\u001b[0;32m    264\u001b[0m         \u001b[38;5;28;01mif\u001b[39;00m psub\u001b[38;5;241m.\u001b[39mremaining \u001b[38;5;241m!=\u001b[39m \u001b[38;5;241m0\u001b[39m:\n\u001b[1;32m--> 265\u001b[0m             \u001b[38;5;28;01mraise\u001b[39;00m errors\u001b[38;5;241m.\u001b[39mProgrammingError(\n\u001b[0;32m    266\u001b[0m                 \u001b[38;5;124m\"\u001b[39m\u001b[38;5;124mNot all parameters were used in the SQL statement\u001b[39m\u001b[38;5;124m\"\u001b[39m)\n\u001b[0;32m    268\u001b[0m \u001b[38;5;28;01mtry\u001b[39;00m:\n\u001b[0;32m    269\u001b[0m     result \u001b[38;5;241m=\u001b[39m \u001b[38;5;28mself\u001b[39m\u001b[38;5;241m.\u001b[39m_cnx\u001b[38;5;241m.\u001b[39mcmd_query(stmt, raw\u001b[38;5;241m=\u001b[39m\u001b[38;5;28mself\u001b[39m\u001b[38;5;241m.\u001b[39m_raw,\n\u001b[0;32m    270\u001b[0m                                  buffered\u001b[38;5;241m=\u001b[39m\u001b[38;5;28mself\u001b[39m\u001b[38;5;241m.\u001b[39m_buffered,\n\u001b[0;32m    271\u001b[0m                                  raw_as_string\u001b[38;5;241m=\u001b[39m\u001b[38;5;28mself\u001b[39m\u001b[38;5;241m.\u001b[39m_raw_as_string)\n",
      "\u001b[1;31mProgrammingError\u001b[0m: Not all parameters were used in the SQL statement"
     ]
    }
   ],
   "source": [
    "import pandas as pd\n",
    "\n",
    "import mysql.connector\n",
    "\n",
    "mydb = mysql.connector.connect(\n",
    "    user = \"root\",\n",
    "    passwd = \"MySQL2022\",\n",
    "    host = \"localhost\",\n",
    "    database = 'tractortek_db',\n",
    ")\n",
    "my_cursor = mydb.cursor()\n",
    "\n",
    "manufacturer_data = pd.read_csv('manufacturers.csv', index_col=False, delimiter = ',')\n",
    "\n",
    "#Looping through the data frame to insert values\n",
    "for i,row in manufacturer_data.iterrows():\n",
    "            # %s means values \n",
    "            sql = \"INSERT INTO tractortek_db.manufacturers VALUES (%s,%s,%s)\"\n",
    "            my_cursor.execute(sql, tuple(row))\n",
    "            # the connection is not auto committed by default, so we must commit to save our changes\n",
    "            mydb.commit()\n",
    "\n",
    "print(\"Manufacturers Records are inserted and committed\")\n",
    "\n",
    "products_data = pd.read_csv('products.csv', index_col=False, delimiter = ',')\n",
    "\n",
    "#Looping through the data frame to insert values\n",
    "for i,row in products_data.iterrows():\n",
    "            # %s means values \n",
    "            sql = \"INSERT INTO tractortek_db.products VALUES (%s,%s,%s,%s)\"\n",
    "            my_cursor.execute(sql, tuple(row))\n",
    "            # the connection is not auto committed by default, so we must commit to save our changes\n",
    "            mydb.commit()\n",
    "            \n",
    "print(\"Products Records are inserted and committed\")\n",
    "\n",
    "date_col1 = [\"start_date\", \"end_date\"]\n",
    "\n",
    "prices_data = pd.read_csv('prices.csv', parse_dates=date_col1, index_col=False, delimiter = ',')\n",
    "\n",
    "#Looping through the data frame to insert values\n",
    "for i,row in prices_data.iterrows():\n",
    "            # %s means values \n",
    "            sql = \"INSERT INTO tractortek_db.prices VALUES (%s,%s,%s,%s,%s)\"\n",
    "            my_cursor.execute(sql, tuple(row))\n",
    "            # the connection is not auto committed by default, so we must commit to save our changes\n",
    "            mydb.commit()\n",
    "            \n",
    "print(\"Prices Records are inserted and committed\")\n",
    "\n",
    "date_col2 = [\"sale_entry_date\"]\n",
    "\n",
    "dates_data = pd.read_csv('dates.csv', parse_dates=date_col2, index_col=False, delimiter = ',')\n",
    "\n",
    "#Looping through the data frame to insert values\n",
    "for i,row in dates_data.iterrows():\n",
    "            # %s means values \n",
    "            sql = \"INSERT INTO tractortek_db.dates VALUES (%s,%s,%s,%s,%s,%s)\"\n",
    "            my_cursor.execute(sql, tuple(row))\n",
    "            # the connection is not auto committed by default, so we must commit to save our changes\n",
    "            mydb.commit()\n",
    "            \n",
    "print(\"Dates Records are inserted and committed\")\n",
    "\n",
    "sales_team_data = pd.read_csv('sales_team.csv', index_col=False, delimiter = ',')\n",
    "\n",
    "#Looping through the data frame to insert values\n",
    "for i,row in sales_team_data.iterrows():\n",
    "            # %s means values \n",
    "            sql = \"INSERT INTO tractortek_db.sales_team VALUES (%s,%s,%s,%s,%s,%s)\"\n",
    "            my_cursor.execute(sql, tuple(row))\n",
    "            # the connection is not auto committed by default, so we must commit to save our changes\n",
    "            mydb.commit()\n",
    "            \n",
    "print(\"Sales Team Records are inserted and committed\")"
   ]
  }
 ],
 "metadata": {
  "kernelspec": {
   "display_name": "Python 3 (ipykernel)",
   "language": "python",
   "name": "python3"
  },
  "language_info": {
   "codemirror_mode": {
    "name": "ipython",
    "version": 3
   },
   "file_extension": ".py",
   "mimetype": "text/x-python",
   "name": "python",
   "nbconvert_exporter": "python",
   "pygments_lexer": "ipython3",
   "version": "3.9.6"
  }
 },
 "nbformat": 4,
 "nbformat_minor": 5
}
