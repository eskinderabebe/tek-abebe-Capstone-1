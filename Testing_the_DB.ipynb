{
 "cells": [
  {
   "cell_type": "code",
   "execution_count": 2,
   "id": "a2f6fa3f",
   "metadata": {},
   "outputs": [
    {
     "name": "stdout",
     "output_type": "stream",
     "text": [
      "           emp_name  total_qty\n",
      "0    Bachmann, Jane    23316.0\n",
      "1       Evans, Gina    33177.0\n",
      "2     Lawson, Harry    15364.0\n",
      "3  Clement, Beverly    33013.0\n",
      "4      Allen, Maude    10179.0\n"
     ]
    }
   ],
   "source": [
    "from sqlalchemy import create_engine\n",
    "import mysql.connector as sql\n",
    "import pandas as pd\n",
    "\n",
    "class My_db_details:\n",
    "    dbuser = \"root\"\n",
    "    dbpass = \"MySQL2022\"\n",
    "    dbhost = \"localhost\"\n",
    "    dbname = \"tractortek_db\"\n",
    "\n",
    "\n",
    "conn = \"mysql+pymysql://{0}:{1}@{2}/{3}\".format(\n",
    "        My_db_details.dbuser,\n",
    "        My_db_details.dbpass,\n",
    "        My_db_details.dbhost,\n",
    "        My_db_details.dbname)\n",
    "\n",
    "db_conn = create_engine(conn)\n",
    "\n",
    "\n",
    "datafrommysql = pd.read_sql(\"\"\"SELECT emp_name, sum(so.quantity) as total_qty \n",
    "                                FROM sales_order as so \n",
    "                                inner join sales_team as st \n",
    "                                on so.emp_id = st.emp_id \n",
    "                                group by st.emp_name\"\"\", con=db_conn)\n",
    "\n",
    "print(datafrommysql)"
   ]
  },
  {
   "cell_type": "code",
   "execution_count": 3,
   "id": "c9728c32",
   "metadata": {},
   "outputs": [
    {
     "name": "stdout",
     "output_type": "stream",
     "text": [
      "   price_id  item_price item_code  start_date    end_date\n",
      "0         1       12449  PROD_001  2018-12-30  2019-03-10\n",
      "1         2       12449  PROD_001  2019-03-31  2019-06-23\n",
      "2         3       12449  PROD_001  2019-06-30  2019-09-22\n",
      "3         4       12449  PROD_001  2019-09-29  2019-12-22\n",
      "4         5       12499  PROD_001  2019-12-29  2020-03-22\n",
      "5         6       12499  PROD_001  2020-03-29  2020-06-21\n",
      "6         7       12499  PROD_001  2020-06-28  2020-09-20\n",
      "7         8       12499  PROD_001  2020-09-27  2020-12-20\n"
     ]
    }
   ],
   "source": [
    "datafrommysql = pd.read_sql(\"\"\"SELECT * FROM prices where item_code = 'PROD_001'\"\"\", con=db_conn)\n",
    "print(datafrommysql)"
   ]
  },
  {
   "cell_type": "code",
   "execution_count": 11,
   "id": "dc72f0db",
   "metadata": {},
   "outputs": [
    {
     "name": "stdout",
     "output_type": "stream",
     "text": [
      "        id item_code  emp_id sales_entry_date\n",
      "0     8320   ESP_008  EMP290       2020-12-20\n",
      "1     8319   ESP_007  EMP290       2020-12-20\n",
      "2     8318   ESP_006  EMP290       2020-12-20\n",
      "3     8317   ESP_005  EMP290       2020-12-20\n",
      "4     8316   ESP_004  EMP290       2020-12-20\n",
      "...    ...       ...     ...              ...\n",
      "8315     5  PROD_005  EMP234       2018-12-30\n",
      "8316     4  PROD_004  EMP234       2018-12-30\n",
      "8317     3  PROD_003  EMP234       2018-12-30\n",
      "8318     2  PROD_002  EMP234       2018-12-30\n",
      "8319     1  PROD_001  EMP234       2018-12-30\n",
      "\n",
      "[8320 rows x 4 columns]\n"
     ]
    }
   ],
   "source": [
    "datafrommysql = pd.read_sql(\"\"\"SELECT id, item_code, emp_id, sales_entry_date\n",
    "                                FROM sales_order\n",
    "                                order by id desc\"\"\", con=db_conn)\n",
    "print(datafrommysql)"
   ]
  },
  {
   "cell_type": "code",
   "execution_count": null,
   "id": "75c8dc24",
   "metadata": {},
   "outputs": [],
   "source": []
  }
 ],
 "metadata": {
  "kernelspec": {
   "display_name": "Python 3 (ipykernel)",
   "language": "python",
   "name": "python3"
  },
  "language_info": {
   "codemirror_mode": {
    "name": "ipython",
    "version": 3
   },
   "file_extension": ".py",
   "mimetype": "text/x-python",
   "name": "python",
   "nbconvert_exporter": "python",
   "pygments_lexer": "ipython3",
   "version": "3.9.6"
  }
 },
 "nbformat": 4,
 "nbformat_minor": 5
}
